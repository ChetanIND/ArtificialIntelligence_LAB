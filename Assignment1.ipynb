{
 "cells": [
  {
   "cell_type": "markdown",
   "id": "6a8da4c1",
   "metadata": {},
   "source": [
    "# BFS Algorithm"
   ]
  },
  {
   "cell_type": "code",
   "execution_count": 7,
   "id": "86831386",
   "metadata": {},
   "outputs": [],
   "source": [
    "list = {0: [], 1:[], 2: [], 3:[]}"
   ]
  },
  {
   "cell_type": "code",
   "execution_count": 8,
   "id": "4c9bb237",
   "metadata": {},
   "outputs": [],
   "source": [
    "class Graph:\n",
    "    def __init__(self):\n",
    "        self.grapht = list\n",
    "        \n",
    "    def addEdge(self, u, v):\n",
    "        self.grapht[u].append(v)\n",
    "        \n",
    "    def bfs(self, s):\n",
    "        visits = [False] * (max(self.grapht) + 1)\n",
    "        \n",
    "        queue = []\n",
    "        queue.append(s)\n",
    "        visits[s] = True\n",
    "        \n",
    "        while queue:\n",
    "            s = queue.pop(0)\n",
    "            print(f\"{s} \")\n",
    "            \n",
    "            for i in self.grapht[s]:\n",
    "                if visits[i] == False:\n",
    "                    queue.append(i)\n",
    "                    visits[i] = True"
   ]
  },
  {
   "cell_type": "code",
   "execution_count": 9,
   "id": "0cf1d2ca",
   "metadata": {},
   "outputs": [
    {
     "name": "stdout",
     "output_type": "stream",
     "text": [
      "2 \n",
      "0 \n",
      "3 \n",
      "1 \n"
     ]
    }
   ],
   "source": [
    "g = Graph()\n",
    "g.addEdge(0, 1)\n",
    "g.addEdge(0, 2)\n",
    "g.addEdge(1, 2)\n",
    "g.addEdge(2, 0)\n",
    "g.addEdge(2, 3)\n",
    "g.addEdge(3, 3)\n",
    "g.bfs(2)"
   ]
  },
  {
   "cell_type": "markdown",
   "id": "c89e6509",
   "metadata": {},
   "source": [
    "# DFS Algorithm"
   ]
  },
  {
   "cell_type": "code",
   "execution_count": 10,
   "id": "8d680700",
   "metadata": {},
   "outputs": [],
   "source": [
    "listm = {0: [], 1:[], 2: [], 3:[]}"
   ]
  },
  {
   "cell_type": "code",
   "execution_count": 11,
   "id": "01fef750",
   "metadata": {},
   "outputs": [],
   "source": [
    "class Graphm:\n",
    "    def __init__(self):\n",
    "        self.grapht = listm\n",
    "        \n",
    "    def addEdgem(self, u, v):\n",
    "        self.grapht[u].append(v)\n",
    "        \n",
    "    def DFSUtil(self, v, visited):\n",
    "        visited.add(v)\n",
    "        print(v)\n",
    " \n",
    "        for neighbour in self.grapht[v]:\n",
    "            if neighbour not in visited:\n",
    "                self.DFSUtil(neighbour, visited)\n",
    " \n",
    "    def dfs(self, s):\n",
    "        visited = set()\n",
    " \n",
    "        self.DFSUtil(s, visited)\n",
    " "
   ]
  },
  {
   "cell_type": "code",
   "execution_count": 12,
   "id": "ed8d8e7b",
   "metadata": {},
   "outputs": [
    {
     "name": "stdout",
     "output_type": "stream",
     "text": [
      "2\n",
      "0\n",
      "1\n",
      "3\n"
     ]
    }
   ],
   "source": [
    "g = Graphm()\n",
    "g.addEdgem(0, 1)\n",
    "g.addEdgem(0, 2)\n",
    "g.addEdgem(1, 2)\n",
    "g.addEdgem(2, 0)\n",
    "g.addEdgem(2, 3)\n",
    "g.addEdgem(3, 3)\n",
    "g.dfs(2)"
   ]
  },
  {
   "cell_type": "markdown",
   "id": "896268a0",
   "metadata": {},
   "source": [
    "# DLS Algorithm"
   ]
  },
  {
   "cell_type": "code",
   "execution_count": 13,
   "id": "527c139f",
   "metadata": {},
   "outputs": [],
   "source": [
    "listg = {'A': [], 'B':[], 'C': [], 'D':[],'E': [], 'F':[], 'G': [], 'H':[],'I':[]}"
   ]
  },
  {
   "cell_type": "code",
   "execution_count": 15,
   "id": "1f3a4927",
   "metadata": {},
   "outputs": [],
   "source": [
    "class Graphg: \n",
    "    def __init__(self): \n",
    "    # setting the data member adj_list as an empty dictionary \n",
    "        self.adj_list = listg \n",
    "        \n",
    "    def addEdgeg( self, node1, node2 ): \n",
    "        # adding a edge from node1 to node2 \n",
    "        self.flag = False \n",
    "        self.adj_list [node1].append(node2); \n",
    "        \n",
    "    def dlsUtil( self, node, visited, goal, height, limit ): \n",
    "        # checking if the node is required node or not \n",
    "        if( node == goal ): \n",
    "            self.flag = True \n",
    "            print(\"Node Found\", node ) \n",
    "            return \n",
    "        # else checking if height is greater that or equal to the height limit \n",
    "        elif(height >= limit ): \n",
    "            return \n",
    "        visited.add(node) \n",
    "        \n",
    "        # executing depth first search for all unvisited neighbours of the current node \n",
    "        for neighbour in self.adj_list[node]: \n",
    "            if neighbour not in visited: \n",
    "                self.dlsUtil( neighbour, visited, goal, height+1, limit)\n",
    "            \n",
    "    def DLS(self, v ): \n",
    "        # setting the visited as a set of bool values \n",
    "        visited = set() \n",
    "        # getting the node to search from the user \n",
    "        goal_node = input(\"Enter the goal node: \") \n",
    "        # getting the limit from \n",
    "        \n",
    "        limit = int(input(\"Enter the limit : \"))\n",
    "        \n",
    "        if( limit == 0 ): \n",
    "            print(\"Cannot search with a limit of 0\") \n",
    "            return \n",
    "        \n",
    "        # starting height would be 0 \n",
    "        start_height = 0 \n",
    "        self.dlsUtil( v, visited, goal_node, 0, limit) \n",
    "        \n",
    "        # checking using a data member flag if the node was found or not \n",
    "        if( not self.flag ): \n",
    "            print(\"Node is not present\", goal_node ) \n"
   ]
  },
  {
   "cell_type": "code",
   "execution_count": 16,
   "id": "302bd1c1",
   "metadata": {},
   "outputs": [
    {
     "name": "stdout",
     "output_type": "stream",
     "text": [
      "Enter the goal node: F\n",
      "Enter the limit : 4\n",
      "Node Found F\n"
     ]
    }
   ],
   "source": [
    "# creating object of class Graph \n",
    "g = Graphg()   \n",
    "\n",
    "# adding edges to graph \n",
    "g.addEdgeg('A', 'B') \n",
    "g.addEdgeg('A', 'C') \n",
    "g.addEdgeg( 'B', 'D' ) \n",
    "g.addEdgeg( 'B', 'E' ) \n",
    "g.addEdgeg( 'C', 'F' ) \n",
    "g.addEdgeg( 'C', 'G' ) \n",
    "g.addEdgeg( 'F', 'H' ) \n",
    "g.addEdgeg( 'F', 'I' ) \n",
    "g.addEdgeg( 'H', 'J' ) \n",
    "g.addEdgeg( 'H', 'K' ) \n",
    "g.addEdgeg( 'I', 'L' ) \n",
    "g.addEdgeg( 'I', 'M' ) \n",
    "                     \n",
    "# calling the function \n",
    "g.DLS( 'A' ) "
   ]
  },
  {
   "cell_type": "code",
   "execution_count": null,
   "id": "a92b84f5",
   "metadata": {},
   "outputs": [],
   "source": []
  }
 ],
 "metadata": {
  "kernelspec": {
   "display_name": "Python 3 (ipykernel)",
   "language": "python",
   "name": "python3"
  },
  "language_info": {
   "codemirror_mode": {
    "name": "ipython",
    "version": 3
   },
   "file_extension": ".py",
   "mimetype": "text/x-python",
   "name": "python",
   "nbconvert_exporter": "python",
   "pygments_lexer": "ipython3",
   "version": "3.8.8"
  }
 },
 "nbformat": 4,
 "nbformat_minor": 5
}
